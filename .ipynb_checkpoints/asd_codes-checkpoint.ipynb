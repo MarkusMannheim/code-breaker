{
 "cells": [
  {
   "cell_type": "code",
   "execution_count": 368,
   "id": "b9a1bceb-b4af-493f-a710-b0ac9a9b716c",
   "metadata": {},
   "outputs": [
    {
     "name": "stdout",
     "output_type": "stream",
     "text": [
      "The first clue!\n",
      "ATBASH\n",
      "\n",
      "First section of outer ring solved!\n",
      "WEAREAUDACIOUSINCONCEPTANDMETICULOUSINEXECUTION\n",
      "\n",
      "Second section of outer ring solved!\n",
      "FINDCLARITYIN7WIDTHX5DEPTH\n",
      "\n",
      "   w0 w1 w2 w3 w4 w5 w6\n",
      "d0  B  G  O  A  M  V  O\n",
      "d1  E  I  A  T  S  I  R\n",
      "d2  L  N  G  T  T  N  E\n",
      "d3  O  G  R  E  R  G  X\n",
      "d4  N  T  E  A  I  F  C\n",
      "\n",
      "   w0 w1 w2 w3 w4 w5 w6\n",
      "d0  E  C  A  I  E  O  A\n",
      "d1  L  E  K  F  N  R  5\n",
      "d2  L  W  E  F  C  H  D\n",
      "d3  E  E  A  E  E  E  7\n",
      "d4  N  M  D  R  X  X  5\n",
      "\n",
      "Inner ring solved!\n",
      "BELONGINGTOAGREATTEAMSTRIVINGFOREXCELLENCEWEMAKEADIFFERENCE\n",
      "\n",
      "Inner ring clue discovered!\n",
      "XORHEXA5D75\n",
      "\n"
     ]
    }
   ],
   "source": [
    "import pandas as pd\n",
    "import string\n",
    "import os\n",
    "import binascii\n",
    "\n",
    "# characters in rings, and weight of font (1, 2 and 3)\n",
    "outer_raw = list(\"DVZIVZFWZXRLFHRMXLMXVKGZMWNVGRXFOLFHRMVCVXFGRLM.URMWXOZIRGBRM7DRWGSC5WVKGS.\")\n",
    "outer_types = list(\"311112111132333312113332213323332133323123133213332323132123113231231321312\")\n",
    "\n",
    "inner_raw = list(\"BGOAMVOEIATSIRLNGTTNEOGRERGXNTEAIFCECAIEOALEKFNR5LWEFCHDEEAEEE7NMDRXX5\")\n",
    "inner_types = list(\"1333331131331113331331333311113331311133133113313311333331133133113313\")\n",
    "\n",
    "hexcode = list(\"E3B8287D4290F7233814D7A47A291DC0F71B2806D1A53B311CC4B97A0E1CC2B93B31068593332F10C6A3352F14D1B27A3514D6F7382F1AD0B0322955D1B83D3801CDB2287D05C0B82A311085A033291D85A3323855D6BC333119D6FB7A3C11C4A72E3C17CCBB33290C85B6343955CCBA3B3A1CCBB62E341ACBF72E3255CAA73F2F14D1B27A341B85A3323855D6BB333055C4A53F3C55C7B22E2A10C0B97A291DC0F73E3413C3BE392819D1F73B331185A3323855CCBA2A323855CCBA2A323855CCBA2A3206D6BE3831108B\")\n",
    "hexstring = \"\".join(hexcode)\n",
    "\n",
    "# brail and associated letters on heads side\n",
    "brail_letters = \"BTHASA\"\n",
    "brail_num = \"326154\"\n",
    "brail_chr = \"CBFAED\"\n",
    "\n",
    "word = \"\"\n",
    "for i in range(1, 7):\n",
    "    index = brail_num.index(str(i))    \n",
    "    word = word + brail_letters[index]\n",
    "\n",
    "# found the cipher!\n",
    "print(\"The first clue!\")\n",
    "print(word)\n",
    "print()\n",
    "\n",
    "# atbash cipher\n",
    "atbash_key = {}\n",
    "letters = string.ascii_uppercase\n",
    "for letter in letters:\n",
    "    atbash_key[letter] = letters[len(letters) - letters.index(letter) - 1]\n",
    "\n",
    "# outer ring\n",
    "outer_ring_first = \"\"\n",
    "for character in outer_raw[:outer_raw.index(\".\")]:\n",
    "    outer_ring_first = outer_ring_first + atbash_key[character]\n",
    "\n",
    "print(\"First section of outer ring solved!\")\n",
    "print(outer_ring_first)\n",
    "print()\n",
    "\n",
    "outer_ring_second = \"\"\n",
    "for character in outer_raw[outer_raw.index(\".\") + 1 : -1]:\n",
    "    if character in atbash_key.keys():\n",
    "        outer_ring_second = outer_ring_second + atbash_key[character]\n",
    "    else:\n",
    "        outer_ring_second = outer_ring_second + character\n",
    "\n",
    "print(\"Second section of outer ring solved!\")\n",
    "print(outer_ring_second)\n",
    "print()\n",
    "\n",
    "# inner ring (two 7 x 5 transposition ciphers)\n",
    "grid1 = pd.DataFrame(columns=[f\"w{w}\" for w in range(7)], index=[f\"d{d}\" for d in range(5)])\n",
    "grid2 = pd.DataFrame(columns=[f\"w{w}\" for w in range(7)], index=[f\"d{d}\" for d in range(5)])\n",
    "\n",
    "for d in range(5):\n",
    "    for w in range(7):    \n",
    "        grid1.at[f\"d{d}\", f\"w{w}\"] = inner_raw[w + d * 7]\n",
    "        grid2.at[f\"d{d}\", f\"w{w}\"] = inner_raw[w + d * 7 + 35]\n",
    "        \n",
    "print(grid1)\n",
    "print()\n",
    "print(grid2)\n",
    "print()\n",
    "\n",
    "string = \"\"\n",
    "for i in range(70):\n",
    "    if i < 35:\n",
    "        string = string + grid1.iat[i % 5, i // 5]\n",
    "    else:\n",
    "        string = string + grid2.iat[(i - 35) % 5, (i - 35) // 5]\n",
    "        \n",
    "print(\"Inner ring solved!\")\n",
    "print(string[:-11])\n",
    "print()\n",
    "\n",
    "hexclue = string[-11:]\n",
    "print(\"Inner ring clue discovered!\")\n",
    "print(hexclue)\n",
    "print()\n"
   ]
  },
  {
   "cell_type": "code",
   "execution_count": 366,
   "id": "5003d3f3-f766-4bf8-9c8f-4e5a0f450936",
   "metadata": {},
   "outputs": [
    {
     "data": {
      "text/plain": [
       "'XORHEXA5D75'"
      ]
     },
     "execution_count": 366,
     "metadata": {},
     "output_type": "execute_result"
    }
   ],
   "source": [
    "hexstring\n",
    "hexclue"
   ]
  },
  {
   "cell_type": "code",
   "execution_count": 393,
   "id": "213c96e3-cc55-4b43-9046-b596a29e399c",
   "metadata": {},
   "outputs": [
    {
     "name": "stdout",
     "output_type": "stream",
     "text": [
      "String value:  Μια γρήγορη καφέ αλεπού\n",
      "Hexadecimal:  ce9cceb9ceb120ceb3cf81ceaeceb3cebfcf81ceb720cebaceb1cf86cead20ceb1cebbceb5cf80cebfcf8d\n",
      "Byte value:  b'\\xce\\x9c\\xce\\xb9\\xce\\xb1 \\xce\\xb3\\xcf\\x81\\xce\\xae\\xce\\xb3\\xce\\xbf\\xcf\\x81\\xce\\xb7 \\xce\\xba\\xce\\xb1\\xcf\\x86\\xce\\xad \\xce\\xb1\\xce\\xbb\\xce\\xb5\\xcf\\x80\\xce\\xbf\\xcf\\x8d'\n"
     ]
    }
   ],
   "source": [
    "str_val = 'Μια γρήγορη καφέ αλεπού'.encode('utf-8')\n",
    "hex_val = binascii.hexlify(str_val).decode('utf-8')\n",
    "\n",
    "print('String value: ', str_val.decode('utf-8'))\n",
    "print('Hexadecimal: ', hex_val)\n",
    "print('Byte value: ', binascii.unhexlify(hex_val))"
   ]
  },
  {
   "cell_type": "code",
   "execution_count": 416,
   "id": "bcb71ece-9e4a-4d18-8ee5-b8a517fc0f8a",
   "metadata": {},
   "outputs": [
    {
     "data": {
      "text/plain": [
       "'466f7'"
      ]
     },
     "execution_count": 416,
     "metadata": {},
     "output_type": "execute_result"
    }
   ],
   "source": [
    "def hexxor(a, b):\n",
    "    if len(a) > len(b):\n",
    "        return '%x' % (int(a[:len(b)],16)^int(b,16))\n",
    "    else:\n",
    "        return '%x' % (int(a,16)^int(b[:len(a)],16))\n",
    "\n",
    "hexxor(hexstring, hexkey)"
   ]
  },
  {
   "cell_type": "code",
   "execution_count": null,
   "id": "3fb4d9ab-1fe8-4fd6-b356-5b56046b4544",
   "metadata": {},
   "outputs": [],
   "source": []
  }
 ],
 "metadata": {
  "kernelspec": {
   "display_name": "Python 3 (ipykernel)",
   "language": "python",
   "name": "python3"
  },
  "language_info": {
   "codemirror_mode": {
    "name": "ipython",
    "version": 3
   },
   "file_extension": ".py",
   "mimetype": "text/x-python",
   "name": "python",
   "nbconvert_exporter": "python",
   "pygments_lexer": "ipython3",
   "version": "3.10.5"
  }
 },
 "nbformat": 4,
 "nbformat_minor": 5
}
