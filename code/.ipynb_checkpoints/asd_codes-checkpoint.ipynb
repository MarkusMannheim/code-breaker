{
 "cells": [
  {
   "cell_type": "code",
   "execution_count": 375,
   "id": "b9a1bceb-b4af-493f-a710-b0ac9a9b716c",
   "metadata": {},
   "outputs": [
    {
     "name": "stdout",
     "output_type": "stream",
     "text": [
      "First clue!\n",
      "ATBASH\n",
      "\n",
      "Outer ring!\n",
      "WEAREAUDACIOUSINCONCEPTANDMETICULOUSINEXECUTION.FINDCLARITYIN7WIDTHX5DEPTH.\n",
      "\n"
     ]
    }
   ],
   "source": [
    "import pandas as pd\n",
    "import string\n",
    "\n",
    "# code on the tails side\n",
    "outer_ring_characters = \"DVZIVZFWZXRLFHRMXLMXVKGZMWNVGRXFOLFHRMVCVXFGRLM.URMWXOZIRGBRM7DRWGSC5WVKGS.\"\n",
    "outer_ring_weight = \"311112111132333312113332213323332133323123133213332323132123113231231321312\"\n",
    "\n",
    "inner_ring_characters = \"BGOAMVOEIATSIRLNGTTNEOGRERGXNTEAIFCECAIEOALEKFNR5LWEFCHDEEAEEE7NMDRXX5\"\n",
    "inner_ring_types = \"1333331131331113331331333311113331311133133113313311333331133133113313\"\n",
    "\n",
    "hexcode = \"\"\"\n",
    "    E3B\n",
    "    8287D4\n",
    "    290F723381\n",
    "    4D7A47A291DC\n",
    "    0F71B2806D1A53B\n",
    "    311CC4B97A0E1CC2B9\n",
    "    3B31068593332F10C6A335\n",
    "    2F14D1B27A3514D6F7382F1A\n",
    "    D0B0322955D1B83D3801CDB2\n",
    "    287D05C0B82A311085A03329\n",
    "    1D85A3323855D6BC333119D\n",
    "    6FB7A3C11C4A72E3C17CCB\n",
    "    B33290C85B6343955CCBA3\n",
    "    B3A1CCBB62E341ACBF72\n",
    "    E3255CAA73F2F14D1B27A\n",
    "    341B85A3323855D6BB33\n",
    "    3055C4A53F3C55C7B22\n",
    "    E2A10C0B97A291DC0F\n",
    "    73E3413C3BE392819\n",
    "    D1F73B331185A33\n",
    "    23855CCBA2A3\n",
    "    206D6BE383\n",
    "    1108B\n",
    "\"\"\"\n",
    "hexcode = \"\".join(hexcode.splitlines()).replace(\" \", \"\")\n",
    "\n",
    "# brail and letters on heads side\n",
    "brail_letters = \"BTHASA\"\n",
    "brail_numbers = \"326154\"\n",
    "brail_characters = \"CBFAED\"\n",
    "\n",
    "brail_clue = \"\"\n",
    "for i in range(1, 7):\n",
    "    index = brail_numbers.index(str(i))    \n",
    "    brail_clue = brail_clue + brail_letters[index]\n",
    "\n",
    "# found the cipher!\n",
    "print(\"First clue!\")\n",
    "print(brail_clue)\n",
    "print()\n",
    "\n",
    "# atbash cipher\n",
    "def atbash_cipher(code):\n",
    "    letters = string.ascii_uppercase\n",
    "    message = \"\".join([(letters[-letters.index(x) - 1] if x in letters else x) for x in code])\n",
    "    return message\n",
    "\n",
    "# outer ring\n",
    "print(\"Outer ring!\")\n",
    "print(atbash_cipher(outer_ring_characters))\n",
    "print()\n",
    "\n",
    "# transposition cipher\n",
    "\n"
   ]
  },
  {
   "cell_type": "code",
   "execution_count": 370,
   "id": "33ba7c24-c7de-4980-9e18-94619e2c0523",
   "metadata": {},
   "outputs": [
    {
     "data": {
      "text/plain": [
       "'DVZIVZFWZXRLFHRMXLMXVKGZMWNVGRXFOLFHRMVCVXFGRLM.URMWXOZIRGBRM7DRWGSC5WVKGS.'"
      ]
     },
     "execution_count": 370,
     "metadata": {},
     "output_type": "execute_result"
    }
   ],
   "source": [
    "outer_ring_characters"
   ]
  },
  {
   "cell_type": "code",
   "execution_count": null,
   "id": "81d299dc-38dd-46f5-94ee-f943c51f43ac",
   "metadata": {},
   "outputs": [],
   "source": [
    "# inner ring (two 7 x 5 transposition ciphers)\n",
    "grid1 = pd.DataFrame(columns=[f\"w{w}\" for w in range(7)], index=[f\"d{d}\" for d in range(5)])\n",
    "grid2 = pd.DataFrame(columns=[f\"w{w}\" for w in range(7)], index=[f\"d{d}\" for d in range(5)])\n",
    "\n",
    "for d in range(5):\n",
    "    for w in range(7):    \n",
    "        grid1.at[f\"d{d}\", f\"w{w}\"] = inner_raw[w + d * 7]\n",
    "        grid2.at[f\"d{d}\", f\"w{w}\"] = inner_raw[w + d * 7 + 35]\n",
    "        \n",
    "print(grid1)\n",
    "print()\n",
    "print(grid2)\n",
    "print()\n",
    "\n",
    "string = \"\"\n",
    "for i in range(70):\n",
    "    if i < 35:\n",
    "        string = string + grid1.iat[i % 5, i // 5]\n",
    "    else:\n",
    "        string = string + grid2.iat[(i - 35) % 5, (i - 35) // 5]\n",
    "        \n",
    "print(\"Inner ring solved!\")\n",
    "print(string[:-11])\n",
    "print()\n",
    "\n",
    "hexclue = string[-11:]\n",
    "hexkey = string[-5:]\n",
    "print(\"Inner ring clue discovered!\")\n",
    "print(hexclue)\n",
    "print()\n",
    "\n",
    "def hexxor(a, b):\n",
    "    decoded = \"\"\n",
    "    factor = len(a) // len(b)\n",
    "    decoded = decoded + \"%x\" % (int(a[:len(b) * factor], 16) ^ int(b * factor, 16))    \n",
    "    if len(a) % factor > 0:\n",
    "        decoded = decoded + \"%x\" % (int(a[-(len(a) % factor):], 16) ^ int(b[:len(a) % factor], 16))\n",
    "    return decoded\n",
    "\n",
    "bytes.fromhex(hexxor(hexcode, hexkey)).decode()"
   ]
  }
 ],
 "metadata": {
  "kernelspec": {
   "display_name": "Python 3 (ipykernel)",
   "language": "python",
   "name": "python3"
  },
  "language_info": {
   "codemirror_mode": {
    "name": "ipython",
    "version": 3
   },
   "file_extension": ".py",
   "mimetype": "text/x-python",
   "name": "python",
   "nbconvert_exporter": "python",
   "pygments_lexer": "ipython3",
   "version": "3.10.4"
  }
 },
 "nbformat": 4,
 "nbformat_minor": 5
}
